{
 "cells": [
  {
   "cell_type": "markdown",
   "metadata": {},
   "source": [
    "# Final Project - Word Cloud"
   ]
  },
  {
   "cell_type": "markdown",
   "metadata": {},
   "source": [
    "For this project, you'll create a \"word cloud\" from a text by writing a script.  This script needs to process the text, remove punctuation, ignore case and words that do not contain all alphabets, count the frequencies, and ignore uninteresting or irrelevant words.  A dictionary is the output of the `calculate_frequencies` function.  The `wordcloud` module will then generate the image from your dictionary."
   ]
  },
  {
   "cell_type": "markdown",
   "metadata": {},
   "source": [
    "For the input text of your script, you will need to provide a file that contains text only.  For the text itself, you can copy and paste the contents of a website you like.  Or you can use a site like [Project Gutenberg](https://www.gutenberg.org/) to find books that are available online.  You could see what word clouds you can get from famous books, like a Shakespeare play or a novel by Jane Austen. Save this as a .txt file somewhere on your computer.\n",
    "<br><br>\n",
    "Now you will need to upload your input file here so that your script will be able to process it.  To do the upload, you will need an uploader widget.  Run the following cell to perform all the installs and imports for your word cloud script and uploader widget.  It may take a minute for all of this to run and there will be a lot of output messages. But, be patient. Once you get the following final line of output, the code is done executing. Then you can continue on with the rest of the instructions for this notebook.\n",
    "<br><br>\n",
    "**Enabling notebook extension fileupload/extension...**\n",
    "<br>\n",
    "**- Validating: <font color =green>OK</font>**"
   ]
  },
  {
   "cell_type": "code",
   "execution_count": 2,
   "metadata": {
    "tags": []
   },
   "outputs": [
    {
     "output_type": "stream",
     "name": "stdout",
     "text": "Collecting wordcloud\n  Downloading wordcloud-1.7.0.tar.gz (216 kB)\n\u001b[K     |████████████████████████████████| 216 kB 432 kB/s \n\u001b[?25hRequirement already satisfied: matplotlib in /home/elmoallistair/.local/lib/python3.8/site-packages (from wordcloud) (3.2.2)\nRequirement already satisfied: numpy>=1.6.1 in /home/elmoallistair/.local/lib/python3.8/site-packages (from wordcloud) (1.19.0)\nRequirement already satisfied: pillow in /usr/lib/python3/dist-packages (from wordcloud) (7.0.0)\nRequirement already satisfied: kiwisolver>=1.0.1 in /home/elmoallistair/.local/lib/python3.8/site-packages (from matplotlib->wordcloud) (1.2.0)\nRequirement already satisfied: python-dateutil>=2.1 in /usr/lib/python3/dist-packages (from matplotlib->wordcloud) (2.7.3)\nRequirement already satisfied: pyparsing!=2.0.4,!=2.1.2,!=2.1.6,>=2.0.1 in /home/elmoallistair/.local/lib/python3.8/site-packages (from matplotlib->wordcloud) (2.4.7)\nRequirement already satisfied: cycler>=0.10 in /home/elmoallistair/.local/lib/python3.8/site-packages (from matplotlib->wordcloud) (0.10.0)\nRequirement already satisfied: six in /usr/lib/python3/dist-packages (from cycler>=0.10->matplotlib->wordcloud) (1.14.0)\nBuilding wheels for collected packages: wordcloud\n  Building wheel for wordcloud (setup.py) ... \u001b[?25ldone\n\u001b[?25h  Created wheel for wordcloud: filename=wordcloud-1.7.0-cp38-cp38-linux_x86_64.whl size=461933 sha256=c4a18c5e7ba7550ea64acc38992a80eb62789cac1f50dfa06f895a799664ee08\n  Stored in directory: /home/elmoallistair/.cache/pip/wheels/e0/38/00/528d35b61734cf027cbe8c747c441dde83c4454d8a1293ce32\nSuccessfully built wordcloud\nInstalling collected packages: wordcloud\nSuccessfully installed wordcloud-1.7.0\nCollecting fileupload\n  Downloading fileupload-0.1.5-py2.py3-none-any.whl (6.2 kB)\nRequirement already satisfied: notebook>=4.2 in /home/elmoallistair/.local/lib/python3.8/site-packages (from fileupload) (6.0.3)\nRequirement already satisfied: ipywidgets>=5.1 in /home/elmoallistair/.local/lib/python3.8/site-packages (from fileupload) (7.5.1)\nRequirement already satisfied: traitlets>=4.2 in /home/elmoallistair/.local/lib/python3.8/site-packages (from fileupload) (4.3.3)\nRequirement already satisfied: jupyter-core>=4.6.1 in /home/elmoallistair/.local/lib/python3.8/site-packages (from notebook>=4.2->fileupload) (4.6.3)\nRequirement already satisfied: tornado>=5.0 in /home/elmoallistair/.local/lib/python3.8/site-packages (from notebook>=4.2->fileupload) (6.0.4)\nRequirement already satisfied: pyzmq>=17 in /home/elmoallistair/.local/lib/python3.8/site-packages (from notebook>=4.2->fileupload) (19.0.1)\nRequirement already satisfied: ipython-genutils in /home/elmoallistair/.local/lib/python3.8/site-packages (from notebook>=4.2->fileupload) (0.2.0)\nRequirement already satisfied: jupyter-client>=5.3.4 in /home/elmoallistair/.local/lib/python3.8/site-packages (from notebook>=4.2->fileupload) (6.1.5)\nRequirement already satisfied: nbformat in /home/elmoallistair/.local/lib/python3.8/site-packages (from notebook>=4.2->fileupload) (5.0.7)\nRequirement already satisfied: nbconvert in /home/elmoallistair/.local/lib/python3.8/site-packages (from notebook>=4.2->fileupload) (5.6.1)\nRequirement already satisfied: terminado>=0.8.1 in /home/elmoallistair/.local/lib/python3.8/site-packages (from notebook>=4.2->fileupload) (0.8.3)\nRequirement already satisfied: ipykernel in /home/elmoallistair/.local/lib/python3.8/site-packages (from notebook>=4.2->fileupload) (5.3.2)\nRequirement already satisfied: jinja2 in /home/elmoallistair/.local/lib/python3.8/site-packages (from notebook>=4.2->fileupload) (2.11.2)\nRequirement already satisfied: Send2Trash in /home/elmoallistair/.local/lib/python3.8/site-packages (from notebook>=4.2->fileupload) (1.5.0)\nRequirement already satisfied: prometheus-client in /home/elmoallistair/.local/lib/python3.8/site-packages (from notebook>=4.2->fileupload) (0.8.0)\nRequirement already satisfied: ipython>=4.0.0; python_version >= \"3.3\" in /home/elmoallistair/.local/lib/python3.8/site-packages (from ipywidgets>=5.1->fileupload) (7.16.1)\nRequirement already satisfied: widgetsnbextension~=3.5.0 in /home/elmoallistair/.local/lib/python3.8/site-packages (from ipywidgets>=5.1->fileupload) (3.5.1)\nRequirement already satisfied: decorator in /home/elmoallistair/.local/lib/python3.8/site-packages (from traitlets>=4.2->fileupload) (4.4.2)\nRequirement already satisfied: six in /usr/lib/python3/dist-packages (from traitlets>=4.2->fileupload) (1.14.0)\nRequirement already satisfied: python-dateutil>=2.1 in /usr/lib/python3/dist-packages (from jupyter-client>=5.3.4->notebook>=4.2->fileupload) (2.7.3)\nRequirement already satisfied: jsonschema!=2.5.0,>=2.4 in /home/elmoallistair/.local/lib/python3.8/site-packages (from nbformat->notebook>=4.2->fileupload) (3.2.0)\nRequirement already satisfied: pandocfilters>=1.4.1 in /home/elmoallistair/.local/lib/python3.8/site-packages (from nbconvert->notebook>=4.2->fileupload) (1.4.2)\nRequirement already satisfied: mistune<2,>=0.8.1 in /home/elmoallistair/.local/lib/python3.8/site-packages (from nbconvert->notebook>=4.2->fileupload) (0.8.4)\nRequirement already satisfied: defusedxml in /home/elmoallistair/.local/lib/python3.8/site-packages (from nbconvert->notebook>=4.2->fileupload) (0.6.0)\nRequirement already satisfied: entrypoints>=0.2.2 in /usr/lib/python3/dist-packages (from nbconvert->notebook>=4.2->fileupload) (0.3)\nRequirement already satisfied: testpath in /home/elmoallistair/.local/lib/python3.8/site-packages (from nbconvert->notebook>=4.2->fileupload) (0.4.4)\nRequirement already satisfied: pygments in /home/elmoallistair/.local/lib/python3.8/site-packages (from nbconvert->notebook>=4.2->fileupload) (2.6.1)\nRequirement already satisfied: bleach in /home/elmoallistair/.local/lib/python3.8/site-packages (from nbconvert->notebook>=4.2->fileupload) (3.1.5)\nRequirement already satisfied: ptyprocess; os_name != \"nt\" in /home/elmoallistair/.local/lib/python3.8/site-packages (from terminado>=0.8.1->notebook>=4.2->fileupload) (0.6.0)\nRequirement already satisfied: MarkupSafe>=0.23 in /usr/lib/python3/dist-packages (from jinja2->notebook>=4.2->fileupload) (1.1.0)\nRequirement already satisfied: jedi>=0.10 in /home/elmoallistair/.local/lib/python3.8/site-packages (from ipython>=4.0.0; python_version >= \"3.3\"->ipywidgets>=5.1->fileupload) (0.17.1)\nRequirement already satisfied: backcall in /home/elmoallistair/.local/lib/python3.8/site-packages (from ipython>=4.0.0; python_version >= \"3.3\"->ipywidgets>=5.1->fileupload) (0.2.0)\nRequirement already satisfied: setuptools>=18.5 in /usr/lib/python3/dist-packages (from ipython>=4.0.0; python_version >= \"3.3\"->ipywidgets>=5.1->fileupload) (45.2.0)\nRequirement already satisfied: pexpect; sys_platform != \"win32\" in /usr/lib/python3/dist-packages (from ipython>=4.0.0; python_version >= \"3.3\"->ipywidgets>=5.1->fileupload) (4.6.0)\nRequirement already satisfied: pickleshare in /home/elmoallistair/.local/lib/python3.8/site-packages (from ipython>=4.0.0; python_version >= \"3.3\"->ipywidgets>=5.1->fileupload) (0.7.5)\nRequirement already satisfied: prompt-toolkit!=3.0.0,!=3.0.1,<3.1.0,>=2.0.0 in /home/elmoallistair/.local/lib/python3.8/site-packages (from ipython>=4.0.0; python_version >= \"3.3\"->ipywidgets>=5.1->fileupload) (3.0.5)\nRequirement already satisfied: attrs>=17.4.0 in /home/elmoallistair/.local/lib/python3.8/site-packages (from jsonschema!=2.5.0,>=2.4->nbformat->notebook>=4.2->fileupload) (18.1.0)\nRequirement already satisfied: pyrsistent>=0.14.0 in /home/elmoallistair/.local/lib/python3.8/site-packages (from jsonschema!=2.5.0,>=2.4->nbformat->notebook>=4.2->fileupload) (0.16.0)\nRequirement already satisfied: webencodings in /home/elmoallistair/.local/lib/python3.8/site-packages (from bleach->nbconvert->notebook>=4.2->fileupload) (0.5.1)\nRequirement already satisfied: packaging in /home/elmoallistair/.local/lib/python3.8/site-packages (from bleach->nbconvert->notebook>=4.2->fileupload) (20.4)\nRequirement already satisfied: parso<0.8.0,>=0.7.0 in /home/elmoallistair/.local/lib/python3.8/site-packages (from jedi>=0.10->ipython>=4.0.0; python_version >= \"3.3\"->ipywidgets>=5.1->fileupload) (0.7.0)\nRequirement already satisfied: wcwidth in /home/elmoallistair/.local/lib/python3.8/site-packages (from prompt-toolkit!=3.0.0,!=3.0.1,<3.1.0,>=2.0.0->ipython>=4.0.0; python_version >= \"3.3\"->ipywidgets>=5.1->fileupload) (0.2.5)\nRequirement already satisfied: pyparsing>=2.0.2 in /home/elmoallistair/.local/lib/python3.8/site-packages (from packaging->bleach->nbconvert->notebook>=4.2->fileupload) (2.4.7)\nInstalling collected packages: fileupload\nSuccessfully installed fileupload-0.1.5\nRequirement already satisfied: ipywidgets in /home/elmoallistair/.local/lib/python3.8/site-packages (7.5.1)\nRequirement already satisfied: ipython>=4.0.0; python_version >= \"3.3\" in /home/elmoallistair/.local/lib/python3.8/site-packages (from ipywidgets) (7.16.1)\nRequirement already satisfied: traitlets>=4.3.1 in /home/elmoallistair/.local/lib/python3.8/site-packages (from ipywidgets) (4.3.3)\nRequirement already satisfied: ipykernel>=4.5.1 in /home/elmoallistair/.local/lib/python3.8/site-packages (from ipywidgets) (5.3.2)\nRequirement already satisfied: nbformat>=4.2.0 in /home/elmoallistair/.local/lib/python3.8/site-packages (from ipywidgets) (5.0.7)\nRequirement already satisfied: widgetsnbextension~=3.5.0 in /home/elmoallistair/.local/lib/python3.8/site-packages (from ipywidgets) (3.5.1)\nRequirement already satisfied: pygments in /home/elmoallistair/.local/lib/python3.8/site-packages (from ipython>=4.0.0; python_version >= \"3.3\"->ipywidgets) (2.6.1)\nRequirement already satisfied: pickleshare in /home/elmoallistair/.local/lib/python3.8/site-packages (from ipython>=4.0.0; python_version >= \"3.3\"->ipywidgets) (0.7.5)\nRequirement already satisfied: decorator in /home/elmoallistair/.local/lib/python3.8/site-packages (from ipython>=4.0.0; python_version >= \"3.3\"->ipywidgets) (4.4.2)\nRequirement already satisfied: jedi>=0.10 in /home/elmoallistair/.local/lib/python3.8/site-packages (from ipython>=4.0.0; python_version >= \"3.3\"->ipywidgets) (0.17.1)\nRequirement already satisfied: backcall in /home/elmoallistair/.local/lib/python3.8/site-packages (from ipython>=4.0.0; python_version >= \"3.3\"->ipywidgets) (0.2.0)\nRequirement already satisfied: pexpect; sys_platform != \"win32\" in /usr/lib/python3/dist-packages (from ipython>=4.0.0; python_version >= \"3.3\"->ipywidgets) (4.6.0)\nRequirement already satisfied: prompt-toolkit!=3.0.0,!=3.0.1,<3.1.0,>=2.0.0 in /home/elmoallistair/.local/lib/python3.8/site-packages (from ipython>=4.0.0; python_version >= \"3.3\"->ipywidgets) (3.0.5)\nRequirement already satisfied: setuptools>=18.5 in /usr/lib/python3/dist-packages (from ipython>=4.0.0; python_version >= \"3.3\"->ipywidgets) (45.2.0)\nRequirement already satisfied: six in /usr/lib/python3/dist-packages (from traitlets>=4.3.1->ipywidgets) (1.14.0)\nRequirement already satisfied: ipython-genutils in /home/elmoallistair/.local/lib/python3.8/site-packages (from traitlets>=4.3.1->ipywidgets) (0.2.0)\nRequirement already satisfied: tornado>=4.2 in /home/elmoallistair/.local/lib/python3.8/site-packages (from ipykernel>=4.5.1->ipywidgets) (6.0.4)\nRequirement already satisfied: jupyter-client in /home/elmoallistair/.local/lib/python3.8/site-packages (from ipykernel>=4.5.1->ipywidgets) (6.1.5)\nRequirement already satisfied: jsonschema!=2.5.0,>=2.4 in /home/elmoallistair/.local/lib/python3.8/site-packages (from nbformat>=4.2.0->ipywidgets) (3.2.0)\nRequirement already satisfied: jupyter-core in /home/elmoallistair/.local/lib/python3.8/site-packages (from nbformat>=4.2.0->ipywidgets) (4.6.3)\nRequirement already satisfied: notebook>=4.4.1 in /home/elmoallistair/.local/lib/python3.8/site-packages (from widgetsnbextension~=3.5.0->ipywidgets) (6.0.3)\nRequirement already satisfied: parso<0.8.0,>=0.7.0 in /home/elmoallistair/.local/lib/python3.8/site-packages (from jedi>=0.10->ipython>=4.0.0; python_version >= \"3.3\"->ipywidgets) (0.7.0)\nRequirement already satisfied: wcwidth in /home/elmoallistair/.local/lib/python3.8/site-packages (from prompt-toolkit!=3.0.0,!=3.0.1,<3.1.0,>=2.0.0->ipython>=4.0.0; python_version >= \"3.3\"->ipywidgets) (0.2.5)\nRequirement already satisfied: pyzmq>=13 in /home/elmoallistair/.local/lib/python3.8/site-packages (from jupyter-client->ipykernel>=4.5.1->ipywidgets) (19.0.1)\nRequirement already satisfied: python-dateutil>=2.1 in /usr/lib/python3/dist-packages (from jupyter-client->ipykernel>=4.5.1->ipywidgets) (2.7.3)\nRequirement already satisfied: pyrsistent>=0.14.0 in /home/elmoallistair/.local/lib/python3.8/site-packages (from jsonschema!=2.5.0,>=2.4->nbformat>=4.2.0->ipywidgets) (0.16.0)\nRequirement already satisfied: attrs>=17.4.0 in /home/elmoallistair/.local/lib/python3.8/site-packages (from jsonschema!=2.5.0,>=2.4->nbformat>=4.2.0->ipywidgets) (18.1.0)\nRequirement already satisfied: prometheus-client in /home/elmoallistair/.local/lib/python3.8/site-packages (from notebook>=4.4.1->widgetsnbextension~=3.5.0->ipywidgets) (0.8.0)\nRequirement already satisfied: jinja2 in /home/elmoallistair/.local/lib/python3.8/site-packages (from notebook>=4.4.1->widgetsnbextension~=3.5.0->ipywidgets) (2.11.2)\nRequirement already satisfied: Send2Trash in /home/elmoallistair/.local/lib/python3.8/site-packages (from notebook>=4.4.1->widgetsnbextension~=3.5.0->ipywidgets) (1.5.0)\nRequirement already satisfied: terminado>=0.8.1 in /home/elmoallistair/.local/lib/python3.8/site-packages (from notebook>=4.4.1->widgetsnbextension~=3.5.0->ipywidgets) (0.8.3)\nRequirement already satisfied: nbconvert in /home/elmoallistair/.local/lib/python3.8/site-packages (from notebook>=4.4.1->widgetsnbextension~=3.5.0->ipywidgets) (5.6.1)\nRequirement already satisfied: MarkupSafe>=0.23 in /usr/lib/python3/dist-packages (from jinja2->notebook>=4.4.1->widgetsnbextension~=3.5.0->ipywidgets) (1.1.0)\nRequirement already satisfied: ptyprocess; os_name != \"nt\" in /home/elmoallistair/.local/lib/python3.8/site-packages (from terminado>=0.8.1->notebook>=4.4.1->widgetsnbextension~=3.5.0->ipywidgets) (0.6.0)\nRequirement already satisfied: testpath in /home/elmoallistair/.local/lib/python3.8/site-packages (from nbconvert->notebook>=4.4.1->widgetsnbextension~=3.5.0->ipywidgets) (0.4.4)\nRequirement already satisfied: bleach in /home/elmoallistair/.local/lib/python3.8/site-packages (from nbconvert->notebook>=4.4.1->widgetsnbextension~=3.5.0->ipywidgets) (3.1.5)\nRequirement already satisfied: entrypoints>=0.2.2 in /usr/lib/python3/dist-packages (from nbconvert->notebook>=4.4.1->widgetsnbextension~=3.5.0->ipywidgets) (0.3)\nRequirement already satisfied: mistune<2,>=0.8.1 in /home/elmoallistair/.local/lib/python3.8/site-packages (from nbconvert->notebook>=4.4.1->widgetsnbextension~=3.5.0->ipywidgets) (0.8.4)\nRequirement already satisfied: pandocfilters>=1.4.1 in /home/elmoallistair/.local/lib/python3.8/site-packages (from nbconvert->notebook>=4.4.1->widgetsnbextension~=3.5.0->ipywidgets) (1.4.2)\nRequirement already satisfied: defusedxml in /home/elmoallistair/.local/lib/python3.8/site-packages (from nbconvert->notebook>=4.4.1->widgetsnbextension~=3.5.0->ipywidgets) (0.6.0)\nRequirement already satisfied: packaging in /home/elmoallistair/.local/lib/python3.8/site-packages (from bleach->nbconvert->notebook>=4.4.1->widgetsnbextension~=3.5.0->ipywidgets) (20.4)\nRequirement already satisfied: webencodings in /home/elmoallistair/.local/lib/python3.8/site-packages (from bleach->nbconvert->notebook>=4.4.1->widgetsnbextension~=3.5.0->ipywidgets) (0.5.1)\nRequirement already satisfied: pyparsing>=2.0.2 in /home/elmoallistair/.local/lib/python3.8/site-packages (from packaging->bleach->nbconvert->notebook>=4.4.1->widgetsnbextension~=3.5.0->ipywidgets) (2.4.7)\nInstalling /home/elmoallistair/.local/lib/python3.8/site-packages/fileupload/static -> fileupload\nMaking directory: /home/elmoallistair/.local/share/jupyter/nbextensions/fileupload/\nCopying: /home/elmoallistair/.local/lib/python3.8/site-packages/fileupload/static/extension.js -> /home/elmoallistair/.local/share/jupyter/nbextensions/fileupload/extension.js\nCopying: /home/elmoallistair/.local/lib/python3.8/site-packages/fileupload/static/widget.js -> /home/elmoallistair/.local/share/jupyter/nbextensions/fileupload/widget.js\nMaking directory: /home/elmoallistair/.local/share/jupyter/nbextensions/fileupload/fileupload\nCopying: /home/elmoallistair/.local/lib/python3.8/site-packages/fileupload/static/fileupload/widget.js -> /home/elmoallistair/.local/share/jupyter/nbextensions/fileupload/fileupload/widget.js\n- Validating: \u001b[32mOK\u001b[0m\n\n    To initialize this nbextension in the browser every time the notebook (or other app) loads:\n    \n          jupyter nbextension enable fileupload --user --py\n    \nEnabling notebook extension fileupload/extension...\n      - Validating: \u001b[32mOK\u001b[0m\n"
    }
   ],
   "source": [
    "# Here are all the installs and imports you will need for your word cloud script and uploader widget\n",
    "\n",
    "!pip3 install wordcloud\n",
    "!pip3 install fileupload\n",
    "!pip3 install ipywidgets\n",
    "!jupyter nbextension install --py --user fileupload\n",
    "!jupyter nbextension enable --py fileupload\n",
    "\n",
    "import wordcloud\n",
    "import numpy as np\n",
    "from matplotlib import pyplot as plt\n",
    "from IPython.display import display\n",
    "import fileupload\n",
    "import io\n",
    "import sys"
   ]
  },
  {
   "cell_type": "markdown",
   "metadata": {},
   "source": [
    "Whew! That was a lot. All of the installs and imports for your word cloud script and uploader widget have been completed. \n",
    "<br><br>\n",
    "**IMPORTANT!** If this was your first time running the above cell containing the installs and imports, you will need save this notebook now. Then under the File menu above,  select Close and Halt. When the notebook has completely shut down, reopen it. This is the only way the necessary changes will take affect.\n",
    "<br><br>\n",
    "To upload your text file, run the following cell that contains all the code for a custom uploader widget. Once you run this cell, a \"Browse\" button should appear below it. Click this button and navigate the window to locate your saved text file."
   ]
  },
  {
   "cell_type": "code",
   "execution_count": 4,
   "metadata": {},
   "outputs": [
    {
     "output_type": "display_data",
     "data": {
      "text/plain": "FileUploadWidget(label='Browse', _dom_classes=('widget_item', 'btn-group'))",
      "application/vnd.jupyter.widget-view+json": {
       "version_major": 2,
       "version_minor": 0,
       "model_id": "f3347cef996243319b6904bd56da0840"
      }
     },
     "metadata": {}
    }
   ],
   "source": [
    "# This is the uploader widget\n",
    "\n",
    "def _upload():\n",
    "\n",
    "    _upload_widget = fileupload.FileUploadWidget()\n",
    "\n",
    "    def _cb(change):\n",
    "        global file_contents\n",
    "        decoded = io.StringIO(change['owner'].data.decode('utf-8'))\n",
    "        filename = change['owner'].filename\n",
    "        print('Uploaded `{}` ({:.2f} kB)'.format(\n",
    "            filename, len(decoded.read()) / 2 **10))\n",
    "        file_contents = decoded.getvalue()\n",
    "\n",
    "    _upload_widget.observe(_cb, names='data')\n",
    "    display(_upload_widget)\n",
    "\n",
    "_upload()"
   ]
  },
  {
   "cell_type": "markdown",
   "metadata": {},
   "source": [
    "The uploader widget saved the contents of your uploaded file into a string object named *file_contents* that your word cloud script can process. This was a lot of preliminary work, but you are now ready to begin your script. "
   ]
  },
  {
   "cell_type": "markdown",
   "metadata": {},
   "source": [
    "Write a function in the cell below that iterates through the words in *file_contents*, removes punctuation, and counts the frequency of each word.  Oh, and be sure to make it ignore word case, words that do not contain all alphabets and boring words like \"and\" or \"the\".  Then use it in the `generate_from_frequencies` function to generate your very own word cloud!\n",
    "<br><br>\n",
    "**Hint:** Try storing the results of your iteration in a dictionary before passing them into wordcloud via the `generate_from_frequencies` function."
   ]
  },
  {
   "cell_type": "code",
   "execution_count": null,
   "metadata": {
    "collapsed": true
   },
   "outputs": [],
   "source": [
    "def calculate_frequencies(file_contents):\n",
    "    # Here is a list of punctuations and uninteresting words you can use to process your text\n",
    "    punctuations = '''!()-[]{};:'\"\\,<>./?@#$%^&*_~'''\n",
    "    uninteresting_words = [\"the\", \"a\", \"to\", \"if\", \"is\", \"it\", \"of\", \"and\", \"or\", \"an\", \"as\", \"i\", \"me\", \"my\", \\\n",
    "    \"we\", \"our\", \"ours\", \"you\", \"your\", \"yours\", \"he\", \"she\", \"him\", \"his\", \"her\", \"hers\", \"its\", \"they\", \"them\", \\\n",
    "    \"their\", \"what\", \"which\", \"who\", \"whom\", \"this\", \"that\", \"am\", \"are\", \"was\", \"were\", \"be\", \"been\", \"being\", \\\n",
    "    \"have\", \"has\", \"had\", \"do\", \"does\", \"did\", \"but\", \"at\", \"by\", \"with\", \"from\", \"here\", \"when\", \"where\", \"how\", \\\n",
    "    \"all\", \"any\", \"both\", \"each\", \"few\", \"more\", \"some\", \"such\", \"no\", \"nor\", \"too\", \"very\", \"can\", \"will\", \"just\"]\n",
    "    \n",
    "    # LEARNER CODE START HERE\n",
    "    \n",
    "    #wordcloud\n",
    "    cloud = wordcloud.WordCloud()\n",
    "    cloud.generate_from_frequencies()\n",
    "    return cloud.to_array()"
   ]
  },
  {
   "cell_type": "markdown",
   "metadata": {},
   "source": [
    "If you have done everything correctly, your word cloud image should appear after running the cell below.  Fingers crossed!"
   ]
  },
  {
   "cell_type": "code",
   "execution_count": null,
   "metadata": {},
   "outputs": [],
   "source": [
    "# Display your wordcloud image\n",
    "\n",
    "myimage = calculate_frequencies(file_contents)\n",
    "plt.imshow(myimage, interpolation = 'nearest')\n",
    "plt.axis('off')\n",
    "plt.show()"
   ]
  },
  {
   "cell_type": "markdown",
   "metadata": {},
   "source": [
    "If your word cloud image did not appear, go back and rework your `calculate_frequencies` function until you get the desired output.  Definitely check that you passed your frequecy count dictionary into the `generate_from_frequencies` function of `wordcloud`. Once you have correctly displayed your word cloud image, you are all done with this project. Nice work!"
   ]
  }
 ],
 "metadata": {
  "coursera": {
   "course_slug": "python-crash-course",
   "graded_item_id": "Z5d28",
   "launcher_item_id": "eSjyd"
  },
  "kernelspec": {
   "display_name": "Python 3",
   "language": "python",
   "name": "python3"
  },
  "language_info": {
   "codemirror_mode": {
    "name": "ipython",
    "version": 3
   },
   "file_extension": ".py",
   "mimetype": "text/x-python",
   "name": "python",
   "nbconvert_exporter": "python",
   "pygments_lexer": "ipython3",
   "version": "3.8.2-final"
  },
  "widgets": {
   "application/vnd.jupyter.widget-state+json": {
    "state": {},
    "version_major": 2,
    "version_minor": 0
   }
  }
 },
 "nbformat": 4,
 "nbformat_minor": 2
}